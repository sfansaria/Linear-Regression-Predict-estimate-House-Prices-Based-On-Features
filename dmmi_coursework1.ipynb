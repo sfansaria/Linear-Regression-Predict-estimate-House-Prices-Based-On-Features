{
  "nbformat": 4,
  "nbformat_minor": 0,
  "metadata": {
    "colab": {
      "provenance": [],
      "authorship_tag": "ABX9TyNw9U6BT/4WdoMiByZu0nM5",
      "include_colab_link": true
    },
    "kernelspec": {
      "name": "python3",
      "display_name": "Python 3"
    },
    "language_info": {
      "name": "python"
    }
  },
  "cells": [
    {
      "cell_type": "markdown",
      "metadata": {
        "id": "view-in-github",
        "colab_type": "text"
      },
      "source": [
        "<a href=\"https://colab.research.google.com/github/sfansaria/Linear-Regression-Predict-estimate-House-Prices-Based-On-Features/blob/main/dmmi_coursework1.ipynb\" target=\"_parent\"><img src=\"https://colab.research.google.com/assets/colab-badge.svg\" alt=\"Open In Colab\"/></a>"
      ]
    },
    {
      "cell_type": "code",
      "execution_count": null,
      "metadata": {
        "id": "fYkxjlNumBTR"
      },
      "outputs": [],
      "source": [
        "# Name: Saba Firdaus Ansaria\n",
        "# Reg No: 210110201\n",
        "# you need to add the code snippet to the python widget at the Orange pipeline given\n",
        "# with this assignment.\n",
        "# This code takes data from the Orange pipeline and runs different regression algorithms # for generating learning curves.\n",
        "\n",
        "\n",
        "# importing libraries from scikit learn using sklearn\n",
        "\n",
        "from sklearn.linear_model import LinearRegression\n",
        "from sklearn.linear_model import Ridge\n",
        "from sklearn.linear_model import Lasso\n",
        "from sklearn.model_selection import learning_curve\n",
        "import pandas as pd\n",
        "import matplotlib.pyplot as plt\n",
        "from sklearn.ensemble import RandomForestRegressor\n",
        "from sklearn.ensemble import GradientBoostingRegressor, AdaBoostRegressor\n",
        "import numpy as np\n",
        "\n",
        "fet=50\n",
        "tar=65\n",
        "\n",
        "\n",
        "def print_learning_curve(reg_model,data,target,cross_validation,model):\n",
        "    train_sample = [100,200,300,400,500,1000] # train scenarios\n",
        "    # sklearn learning curve function to generate teh regression scores\n",
        "    train_sample, train_scores, val_scores = learning_curve(\n",
        "    estimator = reg_model,\n",
        "    X = data,\n",
        "    y = target, train_sizes = train_sample, cv = cross_validation, scoring = 'neg_mean_squared_error')\n",
        "    # rpinting train and vlidation score\n",
        "    print('Train score:{}'.format( train_scores))\n",
        "    print('\\nValidation scores:{}'.format(val_scores))\n",
        "\n",
        "    #calculating the mean score for training and validation loss\n",
        "    mean_train_scores = -train_scores.mean(axis = 1)\n",
        "    mean_val_scores = -val_scores.mean(axis = 1 )\n",
        "    print('Mean training scores{}'.format( pd.Series(mean_train_scores, index = train_sample)))\n",
        "    print('\\n', '-' * 20) # separator\n",
        "    print('\\nMean validation scores {}'.format(pd.Series(mean_val_scores, index =      train_sample)))\n",
        "\n",
        "\n",
        "    #plot printing\n",
        "\n",
        "    plt.style.use('seaborn')\n",
        "    #using generalised cations for multiple model training\n",
        "    label = model +' Training error'\n",
        "    plt.plot(train_sample, mean_train_scores, label = label)\n",
        "    label = model +' Validation error'\n",
        "    plt.plot(train_sample, mean_val_scores, label = label)\n",
        "    plt.ylabel('MSE', fontsize = 10)\n",
        "    plt.xlabel('Training set size', fontsize = 10)\n",
        "    title=\"Learning Curve for \" +model+ \" model.\"\n",
        "    plt.title(title, fontsize = 12)\n",
        "    plt.legend()\n",
        "    plt.show()\n",
        "\n",
        "\n",
        "\n",
        "# Name: Saba Firdaus Ansaria\n",
        "# Reg No: 210110201\n",
        "\n",
        "\n",
        "# parsing the data from Orange pipeline\n",
        "data = in_data[:,:fet]\n",
        "#parsing the target\n",
        "target = in_data[:,tar]\n",
        "\n",
        "# uncomment the portion to run linear regression\n",
        "#reg_model = LinearRegression()\n",
        "#print_learning_curve(reg_model,data,target,5,\"Linear Regression\")\n",
        "#reg_model = Ridge()\n",
        "#print_learning_curve(reg_model,data,target,5,\"Linear Regression Ridge\")\n",
        "#reg_model = Lasso()\n",
        "#print_learning_curve(reg_model,data,target,5,\"Linear Regression Lasso\")\n",
        "\n",
        "# uncomment the portion to run Gradient boost regression\n",
        "#reg_model = GradientBoostingRegressor()\n",
        "#print_learning_curve(reg_model,data,target,5,\"Gradient Boosting Regressor\")\n",
        "\n",
        "# uncomment the portion to run Adaboost regression\n",
        "#reg_model= AdaBoostRegressor()\n",
        "#print_learning_curve(reg_model,data,target,5,\"Ada Boost Regressor\")"
      ]
    }
  ]
}